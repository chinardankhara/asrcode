{
 "cells": [
  {
   "cell_type": "code",
   "execution_count": 1,
   "metadata": {},
   "outputs": [
    {
     "name": "stdout",
     "output_type": "stream",
     "text": [
      "Requirement already satisfied: deepgram-sdk in /Users/315923/miniconda3/lib/python3.10/site-packages (2.4.0)\n",
      "Requirement already satisfied: aiohttp in /Users/315923/miniconda3/lib/python3.10/site-packages (from deepgram-sdk) (3.8.4)\n",
      "Requirement already satisfied: websockets in /Users/315923/miniconda3/lib/python3.10/site-packages (from deepgram-sdk) (10.4)\n",
      "Requirement already satisfied: async-timeout<5.0,>=4.0.0a3 in /Users/315923/miniconda3/lib/python3.10/site-packages (from aiohttp->deepgram-sdk) (4.0.2)\n",
      "Requirement already satisfied: yarl<2.0,>=1.0 in /Users/315923/miniconda3/lib/python3.10/site-packages (from aiohttp->deepgram-sdk) (1.8.2)\n",
      "Requirement already satisfied: frozenlist>=1.1.1 in /Users/315923/miniconda3/lib/python3.10/site-packages (from aiohttp->deepgram-sdk) (1.3.3)\n",
      "Requirement already satisfied: aiosignal>=1.1.2 in /Users/315923/miniconda3/lib/python3.10/site-packages (from aiohttp->deepgram-sdk) (1.3.1)\n",
      "Requirement already satisfied: charset-normalizer<4.0,>=2.0 in /Users/315923/miniconda3/lib/python3.10/site-packages (from aiohttp->deepgram-sdk) (3.0.1)\n",
      "Requirement already satisfied: attrs>=17.3.0 in /Users/315923/miniconda3/lib/python3.10/site-packages (from aiohttp->deepgram-sdk) (22.2.0)\n",
      "Requirement already satisfied: multidict<7.0,>=4.5 in /Users/315923/miniconda3/lib/python3.10/site-packages (from aiohttp->deepgram-sdk) (6.0.4)\n",
      "Requirement already satisfied: idna>=2.0 in /Users/315923/miniconda3/lib/python3.10/site-packages (from yarl<2.0,>=1.0->aiohttp->deepgram-sdk) (3.4)\n"
     ]
    }
   ],
   "source": [
    "!pip install deepgram-sdk\n"
   ]
  },
  {
   "cell_type": "code",
   "execution_count": 25,
   "metadata": {},
   "outputs": [],
   "source": [
    "from deepgram import Deepgram\n",
    "import asyncio, json\n",
    "import time\n",
    "import sys\n",
    "import os\n",
    "import string\n",
    "import re\n",
    "\n",
    "# Your Deepgram API Key\n"
   ]
  },
  {
   "cell_type": "code",
   "execution_count": 30,
   "metadata": {},
   "outputs": [],
   "source": [
    "# Mimetype for the file you want to transcribe\n",
    "# Include this line only if transcribing a local file\n",
    "# Example: audio/flac\n",
    "\n",
    "async def get_deepgram(filename):\n",
    "    DEEPGRAM_API_KEY = '30651e81c45db3207413aa0018c1a0a52166fc55'\n",
    "    MIMETYPE = 'audio/flac'\n",
    "    FILE = filename\n",
    "  # Initialize the Deepgram SDK\n",
    "    deepgram = Deepgram(DEEPGRAM_API_KEY)\n",
    "\n",
    "    # file is local\n",
    "    # Open the audio file\n",
    "    audio = open(FILE, 'rb')\n",
    "\n",
    "    # Set the source\n",
    "    source = {\n",
    "      'buffer': audio,\n",
    "      'mimetype': MIMETYPE\n",
    "    }\n",
    "\n",
    "  # Send the audio to Deepgram and get the response\n",
    "    start = time.time()\n",
    "    response = await asyncio.create_task(deepgram.transcription.prerecorded(source,\n",
    "    {'punctuate': True, 'model': 'nova',}))\n",
    "    end = time.time()\n",
    "    responsetime = end - start\n",
    "\n",
    "  # write the response to the same file name but with txt extension\n",
    "    with open(FILE.split('.')[0] + '.txt', 'w') as f:\n",
    "        temp = response[\"results\"][\"channels\"][0][\"alternatives\"][0][\"transcript\"]\n",
    "        #remove all the punctuation\n",
    "        temp = temp.translate(str.maketrans('', '', string.punctuation))\n",
    "        temp = temp.upper()\n",
    "        f.write(temp)\n",
    "        f.write('\\n')\n",
    "        f.write(str(responsetime))\n",
    "\n",
    "  # Write only the transcript to the console\n",
    "  #print(response[\"results\"][\"channels\"][0][\"alternatives\"][0][\"transcript\"])"
   ]
  },
  {
   "cell_type": "code",
   "execution_count": 31,
   "metadata": {},
   "outputs": [],
   "source": [
    "try:\n",
    "  # If running in a Jupyter notebook, Jupyter is already running an event loop, so run main with this line instead:\n",
    "  #await main()\n",
    "  await get_deepgram('116-288045-0000.flac')\n",
    "except Exception as e:\n",
    "  exception_type, exception_object, exception_traceback = sys.exc_info()\n",
    "  line_number = exception_traceback.tb_lineno\n",
    "  print(f'line {line_number}: {exception_type} - {e}')"
   ]
  },
  {
   "cell_type": "code",
   "execution_count": 20,
   "metadata": {},
   "outputs": [
    {
     "data": {
      "text/plain": [
       "<_UnixSelectorEventLoop running=True closed=False debug=False>"
      ]
     },
     "execution_count": 20,
     "metadata": {},
     "output_type": "execute_result"
    }
   ],
   "source": []
  },
  {
   "cell_type": "code",
   "execution_count": null,
   "metadata": {},
   "outputs": [],
   "source": []
  }
 ],
 "metadata": {
  "kernelspec": {
   "display_name": "Python 3",
   "language": "python",
   "name": "python3"
  },
  "language_info": {
   "codemirror_mode": {
    "name": "ipython",
    "version": 3
   },
   "file_extension": ".py",
   "mimetype": "text/x-python",
   "name": "python",
   "nbconvert_exporter": "python",
   "pygments_lexer": "ipython3",
   "version": "3.10.9"
  },
  "orig_nbformat": 4
 },
 "nbformat": 4,
 "nbformat_minor": 2
}
