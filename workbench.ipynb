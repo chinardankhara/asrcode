{
 "cells": [
  {
   "cell_type": "code",
   "execution_count": 33,
   "metadata": {},
   "outputs": [],
   "source": [
    "import os\n",
    "from assemblystt import get_assembly\n",
    "from openaistt import get_openai\n",
    "from azurestt import get_azure\n",
    "from deepgramstt import get_deepgram"
   ]
  },
  {
   "cell_type": "code",
   "execution_count": 34,
   "metadata": {},
   "outputs": [],
   "source": [
    "\n",
    "# os.chdir('./dev-other')   \n",
    "# for filename in os.listdir():\n",
    "#     #if not DS_Store, go into the directory\n",
    "#     if filename != '.DS_Store':\n",
    "#         os.chdir(filename)\n",
    "#         for file in os.listdir():\n",
    "#             if file != '.DS_Store':\n",
    "#                 os.chdir(file)\n",
    "#                 for file in os.listdir():\n",
    "#                     #if filename ends with flac, run the function\n",
    "#                     if file.endswith('.flac'):\n",
    "#                         get_assembly(file)\n",
    "#                         get_openai(file)\n",
    "#                         get_azure(file)\n",
    "#                         await get_deepgram(file)\n",
    "#                 os.chdir('..')\n",
    "#         os.chdir('..')\n"
   ]
  },
  {
   "cell_type": "code",
   "execution_count": 35,
   "metadata": {},
   "outputs": [],
   "source": [
    "openai_wer_list = []\n",
    "azure_wer_list = []\n",
    "assembly_wer_list = []\n",
    "deepgram_wer_list = []\n",
    "\n",
    "openai_levenshtein_list = []\n",
    "azure_levenshtein_list = []\n",
    "assembly_levenshtein_list = []\n",
    "deepgram_levenshtein_list = []"
   ]
  },
  {
   "cell_type": "code",
   "execution_count": null,
   "metadata": {},
   "outputs": [],
   "source": [
    "os.chdir('./dev-other')\n",
    "\n",
    "for filename in os.listdir():\n",
    "    #if not DS_Store, go into the directory\n",
    "    if filename != '.DS_Store':\n",
    "        os.chdir(filename)\n",
    "        for file in os.listdir():\n",
    "            if file != '.DS_Store':\n",
    "                os.chdir(file)\n",
    "                for file2 in os.listdir():\n",
    "                    if 'trans' in file2:\n",
    "                        ref_file = file2"
   ]
  }
 ],
 "metadata": {
  "kernelspec": {
   "display_name": "Python 3",
   "language": "python",
   "name": "python3"
  },
  "language_info": {
   "codemirror_mode": {
    "name": "ipython",
    "version": 3
   },
   "file_extension": ".py",
   "mimetype": "text/x-python",
   "name": "python",
   "nbconvert_exporter": "python",
   "pygments_lexer": "ipython3",
   "version": "3.10.9"
  },
  "orig_nbformat": 4
 },
 "nbformat": 4,
 "nbformat_minor": 2
}
